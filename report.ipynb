{
 "cells": [
  {
   "cell_type": "code",
   "execution_count": 9,
   "id": "2ad42fd3",
   "metadata": {},
   "outputs": [
    {
     "name": "stdout",
     "output_type": "stream",
     "text": [
      "[[ 0.  2. 15. 16. 16. 13.  2.  0.]\n",
      " [ 0.  1. 10.  8. 14. 16.  8.  0.]\n",
      " [ 0.  0.  0.  0. 16. 15.  1.  0.]\n",
      " [ 0.  0.  0.  0. 16.  8.  0.  0.]\n",
      " [ 0.  0.  0.  0. 14. 14.  0.  0.]\n",
      " [ 0.  0.  0.  0. 11. 16.  1.  0.]\n",
      " [ 0.  2. 14. 13. 16. 16.  3.  0.]\n",
      " [ 0.  2. 15. 16. 14.  5.  0.  0.]]\n"
     ]
    },
    {
     "data": {
      "text/plain": [
       "<matplotlib.image.AxesImage at 0x7fc773312700>"
      ]
     },
     "execution_count": 9,
     "metadata": {},
     "output_type": "execute_result"
    },
    {
     "data": {
      "image/png": "[encoded data removed]",
      "text/plain": [
       "<Figure size 432x288 with 1 Axes>"
      ]
     },
     "metadata": {
      "needs_background": "light"
     },
     "output_type": "display_data"
    }
   ],
   "source": [
    "from sklearn import datasets\n",
    "import matplotlib.pyplot as plt\n",
    "from sklearn.linear_model import LogisticRegression\n",
    "\n",
    "digits = datasets.load_digits()\n",
    "\n",
    "# We instantiate the model specifying which solver we want to use to find the parameters\n",
    "clf_lr = LogisticRegression(solver='lbfgs',max_iter=9999) # clf = classifier lr = logistic regression\n",
    "\n",
    "print(digits.images[98])\n",
    "plt.imshow(digits.images[98],cmap='binary')"
   ]
  }
 ],
 "metadata": {
  "kernelspec": {
   "display_name": "Python 3",
   "language": "python",
   "name": "python3"
  },
  "language_info": {
   "codemirror_mode": {
    "name": "ipython",
    "version": 3
   },
   "file_extension": ".py",
   "mimetype": "text/x-python",
   "name": "python",
   "nbconvert_exporter": "python",
   "pygments_lexer": "ipython3",
   "version": "3.8.10"
  }
 },
 "nbformat": 4,
 "nbformat_minor": 5
}
